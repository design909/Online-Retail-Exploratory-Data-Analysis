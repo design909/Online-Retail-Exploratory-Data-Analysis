{
 "cells": [
  {
   "cell_type": "markdown",
   "metadata": {},
   "source": [
    "# Portfolio Project: Online Retail Exploratory Data Analysis with Python"
   ]
  },
  {
   "cell_type": "markdown",
   "metadata": {},
   "source": [
    "## Overview\n",
    "\n",
    "In this project, you will step into the shoes of an entry-level data analyst at an online retail company, helping interpret real-world data to help make a key business decision."
   ]
  },
  {
   "cell_type": "markdown",
   "metadata": {},
   "source": [
    "## Case Study\n",
    "In this project, you will be working with transactional data from an online retail store. The dataset contains information about customer purchases, including product details, quantities, prices, and timestamps. Your task is to explore and analyze this dataset to gain insights into the store's sales trends, customer behavior, and popular products. \n",
    "\n",
    "By conducting exploratory data analysis, you will identify patterns, outliers, and correlations in the data, allowing you to make data-driven decisions and recommendations to optimize the store's operations and improve customer satisfaction. Through visualizations and statistical analysis, you will uncover key trends, such as the busiest sales months, best-selling products, and the store's most valuable customers. Ultimately, this project aims to provide actionable insights that can drive strategic business decisions and enhance the store's overall performance in the competitive online retail market.\n",
    "\n",
    "## Prerequisites\n",
    "\n",
    "Before starting this project, you should have some basic knowledge of Python programming and Pandas. In addition, you may want to use the following packages in your Python environment:\n",
    "\n",
    "- pandas\n",
    "- numpy\n",
    "- seaborn\n",
    "- matplotlib\n",
    "\n",
    "These packages should already be installed in Coursera's Jupyter Notebook environment, however if you'd like to install additional packages that are not included in this environment or are working off platform you can install additional packages using `!pip install packagename` within a notebook cell such as:\n",
    "\n",
    "- `!pip install pandas`\n",
    "- `!pip install matplotlib`"
   ]
  },
  {
   "cell_type": "markdown",
   "metadata": {},
   "source": [
    "## Project Objectives\n",
    "1. Describe data to answer key questions to uncover insights\n",
    "2. Gain valuable insights that will help improve online retail performance\n",
    "3. Provide analytic insights and data-driven recommendations"
   ]
  },
  {
   "cell_type": "markdown",
   "metadata": {},
   "source": [
    "## Dataset\n",
    "\n",
    "The dataset you will be working with is the \"Online Retail\" dataset. It contains transactional data of an online retail store from 2010 to 2011. The dataset is available as a .xlsx file named `Online Retail.xlsx`. This data file is already included in the Coursera Jupyter Notebook environment, however if you are working off-platform it can also be downloaded [here](https://archive.ics.uci.edu/ml/machine-learning-databases/00352/Online%20Retail.xlsx).\n",
    "\n",
    "The dataset contains the following columns:\n",
    "\n",
    "- InvoiceNo: Invoice number of the transaction\n",
    "- StockCode: Unique code of the product\n",
    "- Description: Description of the product\n",
    "- Quantity: Quantity of the product in the transaction\n",
    "- InvoiceDate: Date and time of the transaction\n",
    "- UnitPrice: Unit price of the product\n",
    "- CustomerID: Unique identifier of the customer\n",
    "- Country: Country where the transaction occurred"
   ]
  },
  {
   "cell_type": "markdown",
   "metadata": {},
   "source": [
    "## Tasks\n",
    "\n",
    "You may explore this dataset in any way you would like - however if you'd like some help getting started, here are a few ideas:\n",
    "\n",
    "1. Load the dataset into a Pandas DataFrame and display the first few rows to get an overview of the data.\n",
    "2. Perform data cleaning by handling missing values, if any, and removing any redundant or unnecessary columns.\n",
    "3. Explore the basic statistics of the dataset, including measures of central tendency and dispersion.\n",
    "4. Perform data visualization to gain insights into the dataset. Generate appropriate plots, such as histograms, scatter plots, or bar plots, to visualize different aspects of the data.\n",
    "5. Analyze the sales trends over time. Identify the busiest months and days of the week in terms of sales.\n",
    "6. Explore the top-selling products and countries based on the quantity sold.\n",
    "7. Identify any outliers or anomalies in the dataset and discuss their potential impact on the analysis.\n",
    "8. Draw conclusions and summarize your findings from the exploratory data analysis."
   ]
  },
  {
   "cell_type": "markdown",
   "metadata": {},
   "source": [
    "## Task 1: Load the Data"
   ]
  },
  {
   "cell_type": "code",
   "execution_count": 1,
   "metadata": {},
   "outputs": [],
   "source": [
    "# your code here\n",
    "# importing Libraries\n",
    "import pandas as pd\n",
    "import numpy as np\n",
    "import seaborn as sns\n",
    "import matplotlib.pyplot as plt\n"
   ]
  },
  {
   "cell_type": "code",
   "execution_count": 2,
   "metadata": {},
   "outputs": [],
   "source": [
    "# importing dataset\n",
    "file_path = \"Online Retail.xlsx\"\n",
    "df_raw = pd.read_excel(file_path)\n"
   ]
  },
  {
   "cell_type": "code",
   "execution_count": 3,
   "metadata": {},
   "outputs": [
    {
     "data": {
      "text/html": [
       "<div>\n",
       "<style scoped>\n",
       "    .dataframe tbody tr th:only-of-type {\n",
       "        vertical-align: middle;\n",
       "    }\n",
       "\n",
       "    .dataframe tbody tr th {\n",
       "        vertical-align: top;\n",
       "    }\n",
       "\n",
       "    .dataframe thead th {\n",
       "        text-align: right;\n",
       "    }\n",
       "</style>\n",
       "<table border=\"1\" class=\"dataframe\">\n",
       "  <thead>\n",
       "    <tr style=\"text-align: right;\">\n",
       "      <th></th>\n",
       "      <th>InvoiceNo</th>\n",
       "      <th>StockCode</th>\n",
       "      <th>Description</th>\n",
       "      <th>Quantity</th>\n",
       "      <th>InvoiceDate</th>\n",
       "      <th>UnitPrice</th>\n",
       "      <th>CustomerID</th>\n",
       "      <th>Country</th>\n",
       "    </tr>\n",
       "  </thead>\n",
       "  <tbody>\n",
       "    <tr>\n",
       "      <th>0</th>\n",
       "      <td>536365</td>\n",
       "      <td>85123A</td>\n",
       "      <td>WHITE HANGING HEART T-LIGHT HOLDER</td>\n",
       "      <td>6</td>\n",
       "      <td>2010-12-01 08:26:00</td>\n",
       "      <td>2.55</td>\n",
       "      <td>17850.0</td>\n",
       "      <td>United Kingdom</td>\n",
       "    </tr>\n",
       "    <tr>\n",
       "      <th>1</th>\n",
       "      <td>536365</td>\n",
       "      <td>71053</td>\n",
       "      <td>WHITE METAL LANTERN</td>\n",
       "      <td>6</td>\n",
       "      <td>2010-12-01 08:26:00</td>\n",
       "      <td>3.39</td>\n",
       "      <td>17850.0</td>\n",
       "      <td>United Kingdom</td>\n",
       "    </tr>\n",
       "    <tr>\n",
       "      <th>2</th>\n",
       "      <td>536365</td>\n",
       "      <td>84406B</td>\n",
       "      <td>CREAM CUPID HEARTS COAT HANGER</td>\n",
       "      <td>8</td>\n",
       "      <td>2010-12-01 08:26:00</td>\n",
       "      <td>2.75</td>\n",
       "      <td>17850.0</td>\n",
       "      <td>United Kingdom</td>\n",
       "    </tr>\n",
       "    <tr>\n",
       "      <th>3</th>\n",
       "      <td>536365</td>\n",
       "      <td>84029G</td>\n",
       "      <td>KNITTED UNION FLAG HOT WATER BOTTLE</td>\n",
       "      <td>6</td>\n",
       "      <td>2010-12-01 08:26:00</td>\n",
       "      <td>3.39</td>\n",
       "      <td>17850.0</td>\n",
       "      <td>United Kingdom</td>\n",
       "    </tr>\n",
       "    <tr>\n",
       "      <th>4</th>\n",
       "      <td>536365</td>\n",
       "      <td>84029E</td>\n",
       "      <td>RED WOOLLY HOTTIE WHITE HEART.</td>\n",
       "      <td>6</td>\n",
       "      <td>2010-12-01 08:26:00</td>\n",
       "      <td>3.39</td>\n",
       "      <td>17850.0</td>\n",
       "      <td>United Kingdom</td>\n",
       "    </tr>\n",
       "  </tbody>\n",
       "</table>\n",
       "</div>"
      ],
      "text/plain": [
       "  InvoiceNo StockCode                          Description  Quantity  \\\n",
       "0    536365    85123A   WHITE HANGING HEART T-LIGHT HOLDER         6   \n",
       "1    536365     71053                  WHITE METAL LANTERN         6   \n",
       "2    536365    84406B       CREAM CUPID HEARTS COAT HANGER         8   \n",
       "3    536365    84029G  KNITTED UNION FLAG HOT WATER BOTTLE         6   \n",
       "4    536365    84029E       RED WOOLLY HOTTIE WHITE HEART.         6   \n",
       "\n",
       "          InvoiceDate  UnitPrice  CustomerID         Country  \n",
       "0 2010-12-01 08:26:00       2.55     17850.0  United Kingdom  \n",
       "1 2010-12-01 08:26:00       3.39     17850.0  United Kingdom  \n",
       "2 2010-12-01 08:26:00       2.75     17850.0  United Kingdom  \n",
       "3 2010-12-01 08:26:00       3.39     17850.0  United Kingdom  \n",
       "4 2010-12-01 08:26:00       3.39     17850.0  United Kingdom  "
      ]
     },
     "execution_count": 3,
     "metadata": {},
     "output_type": "execute_result"
    }
   ],
   "source": [
    "df_raw.head()"
   ]
  },
  {
   "cell_type": "code",
   "execution_count": 4,
   "metadata": {},
   "outputs": [
    {
     "name": "stdout",
     "output_type": "stream",
     "text": [
      "<class 'pandas.core.frame.DataFrame'>\n",
      "RangeIndex: 541909 entries, 0 to 541908\n",
      "Data columns (total 8 columns):\n",
      " #   Column       Non-Null Count   Dtype         \n",
      "---  ------       --------------   -----         \n",
      " 0   InvoiceNo    541909 non-null  object        \n",
      " 1   StockCode    541909 non-null  object        \n",
      " 2   Description  540455 non-null  object        \n",
      " 3   Quantity     541909 non-null  int64         \n",
      " 4   InvoiceDate  541909 non-null  datetime64[ns]\n",
      " 5   UnitPrice    541909 non-null  float64       \n",
      " 6   CustomerID   406829 non-null  float64       \n",
      " 7   Country      541909 non-null  object        \n",
      "dtypes: datetime64[ns](1), float64(2), int64(1), object(4)\n",
      "memory usage: 33.1+ MB\n"
     ]
    }
   ],
   "source": [
    "# Display basic info\n",
    "df_raw.info()"
   ]
  },
  {
   "cell_type": "markdown",
   "metadata": {},
   "source": [
    "The dataset exhibits a significant number of missing values in the 'Description' column (1454) and a substantially larger number in the 'CustomerID' column (135,080). The absence of a 'CustomerID' raises concerns regarding the reliability and usability of these records for customer-centric analysis. Without a unique identifier, it's impossible to track purchase history, segment customers, or perform accurate customer lifetime value calculations for these entries. These records might represent guest purchases, data entry errors, or other scenarios requiring further investigation to determine appropriate handling strategies (e.g., imputation, removal, or separate analysis)."
   ]
  },
  {
   "cell_type": "code",
   "execution_count": 5,
   "metadata": {},
   "outputs": [
    {
     "data": {
      "text/plain": [
       "InvoiceNo           0\n",
       "StockCode           0\n",
       "Description      1454\n",
       "Quantity            0\n",
       "InvoiceDate         0\n",
       "UnitPrice           0\n",
       "CustomerID     135080\n",
       "Country             0\n",
       "dtype: int64"
      ]
     },
     "execution_count": 5,
     "metadata": {},
     "output_type": "execute_result"
    }
   ],
   "source": [
    "# Check for Missing Values\n",
    "df_raw.isnull().sum()"
   ]
  },
  {
   "cell_type": "markdown",
   "metadata": {},
   "source": [
    "Building upon the initial observation, the presence of missing values in both the 'Description' and 'CustomerID' columns is now confirmed."
   ]
  },
  {
   "cell_type": "markdown",
   "metadata": {},
   "source": [
    "# Task 2: Perform data cleaning by handling missing values, if any, and removing any redundant or unnecessary columns."
   ]
  },
  {
   "cell_type": "code",
   "execution_count": 6,
   "metadata": {},
   "outputs": [
    {
     "data": {
      "text/plain": [
       "InvoiceNo           0\n",
       "StockCode           0\n",
       "Description      1454\n",
       "Quantity            0\n",
       "InvoiceDate         0\n",
       "UnitPrice           0\n",
       "CustomerID     135080\n",
       "Country             0\n",
       "dtype: int64"
      ]
     },
     "execution_count": 6,
     "metadata": {},
     "output_type": "execute_result"
    }
   ],
   "source": [
    "# Check for Missing Values\n",
    "df_raw.isnull().sum()"
   ]
  },
  {
   "cell_type": "markdown",
   "metadata": {},
   "source": [
    "Building upon the initial observation, the presence of missing values in both the 'Description' and 'CustomerID' columns is now confirmed."
   ]
  },
  {
   "cell_type": "code",
   "execution_count": 7,
   "metadata": {},
   "outputs": [
    {
     "data": {
      "text/plain": [
       "(541909, 8)"
      ]
     },
     "execution_count": 7,
     "metadata": {},
     "output_type": "execute_result"
    }
   ],
   "source": [
    "# df_raw size before droping missing values and duplicates\n",
    "df_raw.shape"
   ]
  },
  {
   "cell_type": "code",
   "execution_count": 8,
   "metadata": {},
   "outputs": [
    {
     "name": "stdout",
     "output_type": "stream",
     "text": [
      "number of duplicate rows:  (5268, 8)\n"
     ]
    }
   ],
   "source": [
    "# Checklist: Handle Missing Values, Check for duplicates\n",
    "# Before Droping\n",
    "duplicate_rows_df = df_raw[df_raw.duplicated()]\n",
    "print(\"number of duplicate rows: \", duplicate_rows_df.shape)"
   ]
  },
  {
   "cell_type": "code",
   "execution_count": 9,
   "metadata": {},
   "outputs": [],
   "source": [
    "# Drop duplicates\n",
    "df_duplicates = df_raw.drop_duplicates()"
   ]
  },
  {
   "cell_type": "code",
   "execution_count": 10,
   "metadata": {},
   "outputs": [
    {
     "data": {
      "text/plain": [
       "(536641, 8)"
      ]
     },
     "execution_count": 10,
     "metadata": {},
     "output_type": "execute_result"
    }
   ],
   "source": [
    "# Check the shape of the DataFrame after dropping duplicates\n",
    "df_duplicates.shape"
   ]
  },
  {
   "cell_type": "code",
   "execution_count": 11,
   "metadata": {},
   "outputs": [
    {
     "name": "stdout",
     "output_type": "stream",
     "text": [
      "Number of rows dropped: 5268\n"
     ]
    }
   ],
   "source": [
    "# Verify the number of dropped rows\n",
    "print(\"Number of rows dropped:\", df_raw.shape[0] - df_duplicates.shape[0])"
   ]
  },
  {
   "cell_type": "code",
   "execution_count": 12,
   "metadata": {},
   "outputs": [
    {
     "name": "stdout",
     "output_type": "stream",
     "text": [
      "Number of duplicate rows in the new DataFrame: 0\n"
     ]
    }
   ],
   "source": [
    "# Verify that there are no remaining duplicates in the new DataFrame\n",
    "print(\"Number of duplicate rows in the new DataFrame:\", df_duplicates.duplicated().sum())"
   ]
  },
  {
   "cell_type": "code",
   "execution_count": 13,
   "metadata": {},
   "outputs": [
    {
     "data": {
      "text/html": [
       "<div>\n",
       "<style scoped>\n",
       "    .dataframe tbody tr th:only-of-type {\n",
       "        vertical-align: middle;\n",
       "    }\n",
       "\n",
       "    .dataframe tbody tr th {\n",
       "        vertical-align: top;\n",
       "    }\n",
       "\n",
       "    .dataframe thead th {\n",
       "        text-align: right;\n",
       "    }\n",
       "</style>\n",
       "<table border=\"1\" class=\"dataframe\">\n",
       "  <thead>\n",
       "    <tr style=\"text-align: right;\">\n",
       "      <th></th>\n",
       "      <th>InvoiceNo</th>\n",
       "      <th>StockCode</th>\n",
       "      <th>Description</th>\n",
       "      <th>Quantity</th>\n",
       "      <th>InvoiceDate</th>\n",
       "      <th>UnitPrice</th>\n",
       "      <th>CustomerID</th>\n",
       "      <th>Country</th>\n",
       "    </tr>\n",
       "  </thead>\n",
       "  <tbody>\n",
       "    <tr>\n",
       "      <th>0</th>\n",
       "      <td>536365</td>\n",
       "      <td>85123A</td>\n",
       "      <td>WHITE HANGING HEART T-LIGHT HOLDER</td>\n",
       "      <td>6</td>\n",
       "      <td>2010-12-01 08:26:00</td>\n",
       "      <td>2.55</td>\n",
       "      <td>17850.0</td>\n",
       "      <td>United Kingdom</td>\n",
       "    </tr>\n",
       "    <tr>\n",
       "      <th>1</th>\n",
       "      <td>536365</td>\n",
       "      <td>71053</td>\n",
       "      <td>WHITE METAL LANTERN</td>\n",
       "      <td>6</td>\n",
       "      <td>2010-12-01 08:26:00</td>\n",
       "      <td>3.39</td>\n",
       "      <td>17850.0</td>\n",
       "      <td>United Kingdom</td>\n",
       "    </tr>\n",
       "    <tr>\n",
       "      <th>2</th>\n",
       "      <td>536365</td>\n",
       "      <td>84406B</td>\n",
       "      <td>CREAM CUPID HEARTS COAT HANGER</td>\n",
       "      <td>8</td>\n",
       "      <td>2010-12-01 08:26:00</td>\n",
       "      <td>2.75</td>\n",
       "      <td>17850.0</td>\n",
       "      <td>United Kingdom</td>\n",
       "    </tr>\n",
       "    <tr>\n",
       "      <th>3</th>\n",
       "      <td>536365</td>\n",
       "      <td>84029G</td>\n",
       "      <td>KNITTED UNION FLAG HOT WATER BOTTLE</td>\n",
       "      <td>6</td>\n",
       "      <td>2010-12-01 08:26:00</td>\n",
       "      <td>3.39</td>\n",
       "      <td>17850.0</td>\n",
       "      <td>United Kingdom</td>\n",
       "    </tr>\n",
       "    <tr>\n",
       "      <th>4</th>\n",
       "      <td>536365</td>\n",
       "      <td>84029E</td>\n",
       "      <td>RED WOOLLY HOTTIE WHITE HEART.</td>\n",
       "      <td>6</td>\n",
       "      <td>2010-12-01 08:26:00</td>\n",
       "      <td>3.39</td>\n",
       "      <td>17850.0</td>\n",
       "      <td>United Kingdom</td>\n",
       "    </tr>\n",
       "  </tbody>\n",
       "</table>\n",
       "</div>"
      ],
      "text/plain": [
       "  InvoiceNo StockCode                          Description  Quantity  \\\n",
       "0    536365    85123A   WHITE HANGING HEART T-LIGHT HOLDER         6   \n",
       "1    536365     71053                  WHITE METAL LANTERN         6   \n",
       "2    536365    84406B       CREAM CUPID HEARTS COAT HANGER         8   \n",
       "3    536365    84029G  KNITTED UNION FLAG HOT WATER BOTTLE         6   \n",
       "4    536365    84029E       RED WOOLLY HOTTIE WHITE HEART.         6   \n",
       "\n",
       "          InvoiceDate  UnitPrice  CustomerID         Country  \n",
       "0 2010-12-01 08:26:00       2.55     17850.0  United Kingdom  \n",
       "1 2010-12-01 08:26:00       3.39     17850.0  United Kingdom  \n",
       "2 2010-12-01 08:26:00       2.75     17850.0  United Kingdom  \n",
       "3 2010-12-01 08:26:00       3.39     17850.0  United Kingdom  \n",
       "4 2010-12-01 08:26:00       3.39     17850.0  United Kingdom  "
      ]
     },
     "execution_count": 13,
     "metadata": {},
     "output_type": "execute_result"
    }
   ],
   "source": [
    "# Display the first few rows of the DataFrame with duplicates removed\n",
    "df_duplicates.head()"
   ]
  },
  {
   "cell_type": "code",
   "execution_count": 14,
   "metadata": {},
   "outputs": [
    {
     "data": {
      "text/plain": [
       "InvoiceNo           0\n",
       "StockCode           0\n",
       "Description      1454\n",
       "Quantity            0\n",
       "InvoiceDate         0\n",
       "UnitPrice           0\n",
       "CustomerID     135037\n",
       "Country             0\n",
       "dtype: int64"
      ]
     },
     "execution_count": 14,
     "metadata": {},
     "output_type": "execute_result"
    }
   ],
   "source": [
    "# checking for missing values again\n",
    "df_duplicates.isnull().sum()"
   ]
  },
  {
   "cell_type": "code",
   "execution_count": 15,
   "metadata": {},
   "outputs": [],
   "source": [
    "# Drop missing values\n",
    "df_clean = df_duplicates.dropna()"
   ]
  },
  {
   "cell_type": "code",
   "execution_count": 16,
   "metadata": {},
   "outputs": [
    {
     "data": {
      "text/plain": [
       "InvoiceNo      0\n",
       "StockCode      0\n",
       "Description    0\n",
       "Quantity       0\n",
       "InvoiceDate    0\n",
       "UnitPrice      0\n",
       "CustomerID     0\n",
       "Country        0\n",
       "dtype: int64"
      ]
     },
     "execution_count": 16,
     "metadata": {},
     "output_type": "execute_result"
    }
   ],
   "source": [
    "# Double check if the values are totally drop\n",
    "df_clean.isnull().sum()"
   ]
  },
  {
   "cell_type": "code",
   "execution_count": 17,
   "metadata": {},
   "outputs": [
    {
     "data": {
      "text/plain": [
       "InvoiceNo      401604\n",
       "StockCode      401604\n",
       "Description    401604\n",
       "Quantity       401604\n",
       "InvoiceDate    401604\n",
       "UnitPrice      401604\n",
       "CustomerID     401604\n",
       "Country        401604\n",
       "dtype: int64"
      ]
     },
     "execution_count": 17,
     "metadata": {},
     "output_type": "execute_result"
    }
   ],
   "source": [
    "df_clean.count()"
   ]
  },
  {
   "cell_type": "markdown",
   "metadata": {},
   "source": [
    "# Task 3: Explore the basic statistics of the dataset, including measures of central tendency and dispersion."
   ]
  },
  {
   "cell_type": "code",
   "execution_count": 18,
   "metadata": {},
   "outputs": [
    {
     "data": {
      "text/html": [
       "<div>\n",
       "<style scoped>\n",
       "    .dataframe tbody tr th:only-of-type {\n",
       "        vertical-align: middle;\n",
       "    }\n",
       "\n",
       "    .dataframe tbody tr th {\n",
       "        vertical-align: top;\n",
       "    }\n",
       "\n",
       "    .dataframe thead th {\n",
       "        text-align: right;\n",
       "    }\n",
       "</style>\n",
       "<table border=\"1\" class=\"dataframe\">\n",
       "  <thead>\n",
       "    <tr style=\"text-align: right;\">\n",
       "      <th></th>\n",
       "      <th>Quantity</th>\n",
       "      <th>UnitPrice</th>\n",
       "      <th>CustomerID</th>\n",
       "    </tr>\n",
       "  </thead>\n",
       "  <tbody>\n",
       "    <tr>\n",
       "      <th>count</th>\n",
       "      <td>401604.000000</td>\n",
       "      <td>401604.000000</td>\n",
       "      <td>401604.000000</td>\n",
       "    </tr>\n",
       "    <tr>\n",
       "      <th>mean</th>\n",
       "      <td>12.183273</td>\n",
       "      <td>3.474064</td>\n",
       "      <td>15281.160818</td>\n",
       "    </tr>\n",
       "    <tr>\n",
       "      <th>std</th>\n",
       "      <td>250.283037</td>\n",
       "      <td>69.764035</td>\n",
       "      <td>1714.006089</td>\n",
       "    </tr>\n",
       "    <tr>\n",
       "      <th>min</th>\n",
       "      <td>-80995.000000</td>\n",
       "      <td>0.000000</td>\n",
       "      <td>12346.000000</td>\n",
       "    </tr>\n",
       "    <tr>\n",
       "      <th>25%</th>\n",
       "      <td>2.000000</td>\n",
       "      <td>1.250000</td>\n",
       "      <td>13939.000000</td>\n",
       "    </tr>\n",
       "    <tr>\n",
       "      <th>50%</th>\n",
       "      <td>5.000000</td>\n",
       "      <td>1.950000</td>\n",
       "      <td>15145.000000</td>\n",
       "    </tr>\n",
       "    <tr>\n",
       "      <th>75%</th>\n",
       "      <td>12.000000</td>\n",
       "      <td>3.750000</td>\n",
       "      <td>16784.000000</td>\n",
       "    </tr>\n",
       "    <tr>\n",
       "      <th>max</th>\n",
       "      <td>80995.000000</td>\n",
       "      <td>38970.000000</td>\n",
       "      <td>18287.000000</td>\n",
       "    </tr>\n",
       "  </tbody>\n",
       "</table>\n",
       "</div>"
      ],
      "text/plain": [
       "            Quantity      UnitPrice     CustomerID\n",
       "count  401604.000000  401604.000000  401604.000000\n",
       "mean       12.183273       3.474064   15281.160818\n",
       "std       250.283037      69.764035    1714.006089\n",
       "min    -80995.000000       0.000000   12346.000000\n",
       "25%         2.000000       1.250000   13939.000000\n",
       "50%         5.000000       1.950000   15145.000000\n",
       "75%        12.000000       3.750000   16784.000000\n",
       "max     80995.000000   38970.000000   18287.000000"
      ]
     },
     "execution_count": 18,
     "metadata": {},
     "output_type": "execute_result"
    }
   ],
   "source": [
    "# Basic Statistics\n",
    "df_clean.describe()"
   ]
  },
  {
   "cell_type": "markdown",
   "metadata": {},
   "source": [
    "Following the removal of duplicate entries and rows with missing values, the resulting df_clean dataset contains 401,604 observations, as indicated by its .describe() output. Examining the 'Quantity' column reveals a substantial disparity between the mean (12.18) and the extreme minimum (-80995) and maximum (80995) values. This significant range strongly suggests the presence of outliers. Similarly, the 'UnitPrice' column exhibits a large difference between its mean (3.47) and the maximum value (38970), which is also likely an outlier.\n",
    "\n",
    "These extreme values in 'Quantity' and 'UnitPrice' could represent bulk purchases, potentially from one-time or regular bulk-buying customers. Further analysis, particularly through visualization techniques, will be crucial to understand the nature and impact of these potential outliers and to determine appropriate handling strategies."
   ]
  },
  {
   "cell_type": "code",
   "execution_count": 19,
   "metadata": {},
   "outputs": [],
   "source": [
    "# Filtering for Negative Quantities and count the number of return which are the negative values in the dataset\n",
    "negative_quantity = df_clean[df_clean['Quantity'] < 0]"
   ]
  },
  {
   "cell_type": "code",
   "execution_count": 20,
   "metadata": {},
   "outputs": [
    {
     "name": "stdout",
     "output_type": "stream",
     "text": [
      "    InvoiceNo StockCode                       Description  Quantity  \\\n",
      "141   C536379         D                          Discount        -1   \n",
      "154   C536383    35004C   SET OF 3 COLOURED  FLYING DUCKS        -1   \n",
      "235   C536391     22556    PLASTERS IN TIN CIRCUS PARADE        -12   \n",
      "236   C536391     21984  PACK OF 12 PINK PAISLEY TISSUES        -24   \n",
      "237   C536391     21983  PACK OF 12 BLUE PAISLEY TISSUES        -24   \n",
      "\n",
      "            InvoiceDate  UnitPrice  CustomerID         Country  \n",
      "141 2010-12-01 09:41:00      27.50     14527.0  United Kingdom  \n",
      "154 2010-12-01 09:49:00       4.65     15311.0  United Kingdom  \n",
      "235 2010-12-01 10:24:00       1.65     17548.0  United Kingdom  \n",
      "236 2010-12-01 10:24:00       0.29     17548.0  United Kingdom  \n",
      "237 2010-12-01 10:24:00       0.29     17548.0  United Kingdom  \n",
      "\n",
      "Number of transactions with negative quantity: 8872\n"
     ]
    }
   ],
   "source": [
    "print(negative_quantity.head()) # Display the first few rows\n",
    "print(f\"\\nNumber of transactions with negative quantity: {len(negative_quantity)}\")"
   ]
  },
  {
   "cell_type": "code",
   "execution_count": 21,
   "metadata": {},
   "outputs": [
    {
     "name": "stdout",
     "output_type": "stream",
     "text": [
      "      InvoiceNo StockCode                   Description  Quantity  \\\n",
      "9302     537197     22841  ROUND CAKE TIN VINTAGE GREEN         1   \n",
      "33576    539263     22580  ADVENT CALENDAR GINGHAM SACK         4   \n",
      "40089    539722     22423      REGENCY CAKESTAND 3 TIER        10   \n",
      "47068    540372     22090       PAPER BUNTING RETROSPOT        24   \n",
      "47070    540372     22553        PLASTERS IN TIN SKULLS        24   \n",
      "\n",
      "              InvoiceDate  UnitPrice  CustomerID         Country  \n",
      "9302  2010-12-05 14:02:00        0.0     12647.0         Germany  \n",
      "33576 2010-12-16 14:36:00        0.0     16560.0  United Kingdom  \n",
      "40089 2010-12-21 13:45:00        0.0     14911.0            EIRE  \n",
      "47068 2011-01-06 16:41:00        0.0     13081.0  United Kingdom  \n",
      "47070 2011-01-06 16:41:00        0.0     13081.0  United Kingdom  \n",
      "\n",
      "Number of transactions with zero unit price: 40\n"
     ]
    }
   ],
   "source": [
    "# Filtering for Zero Unit Price and check how many transaction with zero units price\n",
    "zero_unit_price = df_clean[df_clean['UnitPrice'] == 0]\n",
    "print(zero_unit_price.head()) # Display the first few rows\n",
    "print(f\"\\nNumber of transactions with zero unit price: {len(zero_unit_price)}\")"
   ]
  },
  {
   "cell_type": "markdown",
   "metadata": {},
   "source": [
    "# Task 4: Perform data visualization to gain insights into the dataset. Generate appropriate plots, such as histograms, scatter plots, or bar plots, to visualize different aspects of the data."
   ]
  },
  {
   "cell_type": "code",
   "execution_count": 22,
   "metadata": {},
   "outputs": [
    {
     "data": {
      "image/png": "[encoded data removed]",
      "text/plain": [
       "<Figure size 720x432 with 1 Axes>"
      ]
     },
     "metadata": {
      "needs_background": "light"
     },
     "output_type": "display_data"
    },
    {
     "data": {
      "image/png": "[encoded data removed]",
      "text/plain": [
       "<Figure size 720x432 with 1 Axes>"
      ]
     },
     "metadata": {
      "needs_background": "light"
     },
     "output_type": "display_data"
    }
   ],
   "source": [
    "# Visualizing Quantity and UnitPrice\n",
    "# Histogram for Quantity\n",
    "plt.figure(figsize=(10, 6))  # Adjust figure size for better readability\n",
    "plt.hist(df_clean['Quantity'], bins=50, color='skyblue', edgecolor='black')\n",
    "plt.title('Distribution of Quantity')\n",
    "plt.xlabel('Quantity')\n",
    "plt.ylabel('Frequency')\n",
    "plt.grid(axis='y', alpha=0.75)\n",
    "plt.show()\n",
    "\n",
    "# Histogram for UnitPrice\n",
    "plt.figure(figsize=(10, 6))  # Adjust figure size\n",
    "plt.hist(df_clean['UnitPrice'], bins=50, color='lightcoral', edgecolor='black')\n",
    "plt.title('Distribution of Unit Price')\n",
    "plt.xlabel('Unit Price')\n",
    "plt.ylabel('Frequency')\n",
    "plt.grid(axis='y', alpha=0.75)\n",
    "plt.show()"
   ]
  },
  {
   "cell_type": "markdown",
   "metadata": {},
   "source": [
    "As anticipated from the df_clean.describe() results, the 'Distribution of Quantity' plot clearly shows extreme values extending to both positive and negative 80,000, confirming the presence of outliers. Similarly, the 'Distribution of Unit Price' plot reveals outliers stretching up to 40,000."
   ]
  },
  {
   "cell_type": "code",
   "execution_count": 23,
   "metadata": {},
   "outputs": [
    {
     "data": {
      "image/png": "[encoded data removed]",
      "text/plain": [
       "<Figure size 720x432 with 1 Axes>"
      ]
     },
     "metadata": {
      "needs_background": "light"
     },
     "output_type": "display_data"
    },
    {
     "data": {
      "image/png": "[encoded data removed]",
      "text/plain": [
       "<Figure size 720x432 with 1 Axes>"
      ]
     },
     "metadata": {
      "needs_background": "light"
     },
     "output_type": "display_data"
    }
   ],
   "source": [
    "#Zoom in Histogram to double check if my plot is just misleading or it will confirm my theory that an extreme outlier is causing this stretch\n",
    "# Histogram for Quantity (Zoomed In)\n",
    "plt.figure(figsize=(10, 6))\n",
    "plt.hist(df_clean['Quantity'], bins=50, color='skyblue', edgecolor='black')\n",
    "plt.title('Distribution of Quantity (Zoomed In)')\n",
    "plt.xlabel('Quantity')\n",
    "plt.ylabel('Frequency')\n",
    "plt.xlim(-5000, 5000)  # Set the x-axis limits\n",
    "plt.grid(axis='y', alpha=0.75)\n",
    "plt.show()\n",
    "\n",
    "# Histogram for UnitPrice (Zoomed In)\n",
    "plt.figure(figsize=(10, 6))\n",
    "plt.hist(df_clean['UnitPrice'], bins=50, color='lightcoral', edgecolor='black')\n",
    "plt.title('Distribution of Unit Price (Zoomed In)')\n",
    "plt.xlabel('Unit Price')\n",
    "plt.ylabel('Frequency')\n",
    "plt.xlim(0, 5000)  # Set the x-axis limits\n",
    "plt.grid(axis='y', alpha=0.75)\n",
    "plt.show()"
   ]
  },
  {
   "cell_type": "markdown",
   "metadata": {},
   "source": [
    "Upon closer inspection (zooming in), the outlier in the 'Distribution of Unit Price' appears to be near 40,000. A similar close examination of the 'Distribution of Quantity' also reveals potential outliers."
   ]
  },
  {
   "cell_type": "code",
   "execution_count": 24,
   "metadata": {},
   "outputs": [
    {
     "data": {
      "image/png": "[encoded data removed]",
      "text/plain": [
       "<Figure size 576x432 with 1 Axes>"
      ]
     },
     "metadata": {
      "needs_background": "light"
     },
     "output_type": "display_data"
    },
    {
     "data": {
      "image/png": "[encoded data removed]",
      "text/plain": [
       "<Figure size 576x432 with 1 Axes>"
      ]
     },
     "metadata": {
      "needs_background": "light"
     },
     "output_type": "display_data"
    }
   ],
   "source": [
    "# Visualizing outliers\n",
    "# Box plot for Quantity\n",
    "plt.figure(figsize=(8, 6))\n",
    "sns.boxplot(x=df_clean['Quantity'])\n",
    "plt.title('Box Plot of Quantity')\n",
    "plt.xlabel('Quantity')\n",
    "plt.show()\n",
    "\n",
    "# Box plot for UnitPrice\n",
    "plt.figure(figsize=(8, 6))\n",
    "sns.boxplot(x=df_clean['UnitPrice'])\n",
    "plt.title('Box Plot of Unit Price')\n",
    "plt.xlabel('Unit Price')\n",
    "plt.show()"
   ]
  },
  {
   "cell_type": "markdown",
   "metadata": {},
   "source": [
    "The observed stretch in the distributions is confirmed to be caused by the presence of outliers. For the purpose of my revenue by quantity analysis, I will retain these outlier data points."
   ]
  },
  {
   "cell_type": "markdown",
   "metadata": {},
   "source": [
    "# Task 5: Analyze the sales trends over time. Identify the busiest months and days of the week in terms of sales."
   ]
  },
  {
   "cell_type": "code",
   "execution_count": 25,
   "metadata": {},
   "outputs": [],
   "source": [
    "# I added .loc[:] to address a minor warning in pandas.\n",
    "df_clean.loc[:,'TotalPrice'] = df_clean['Quantity'] * df_clean['UnitPrice']"
   ]
  },
  {
   "cell_type": "code",
   "execution_count": 26,
   "metadata": {},
   "outputs": [
    {
     "name": "stdout",
     "output_type": "stream",
     "text": [
      "  InvoiceNo  Quantity  UnitPrice  TotalPrice\n",
      "0    536365         6       2.55       15.30\n",
      "1    536365         6       3.39       20.34\n",
      "2    536365         8       2.75       22.00\n",
      "3    536365         6       3.39       20.34\n",
      "4    536365         6       3.39       20.34\n"
     ]
    }
   ],
   "source": [
    "# Display the first few rows with the new column\n",
    "print(df_clean[['InvoiceNo', 'Quantity', 'UnitPrice', 'TotalPrice']].head())"
   ]
  },
  {
   "cell_type": "code",
   "execution_count": 27,
   "metadata": {},
   "outputs": [],
   "source": [
    "# Ensure InvoiceDate is in datetime format\n",
    "df_clean.loc[:, 'InvoiceDate'] = pd.to_datetime(df_clean['InvoiceDate'])"
   ]
  },
  {
   "cell_type": "code",
   "execution_count": 28,
   "metadata": {},
   "outputs": [],
   "source": [
    "# Extract the Month\n",
    "df_clean.loc[:, 'Month'] = df_clean['InvoiceDate'].dt.month"
   ]
  },
  {
   "cell_type": "code",
   "execution_count": 29,
   "metadata": {},
   "outputs": [],
   "source": [
    "# Aggregate Sales by Month\n",
    "monthly_sales = df_clean.groupby('Month')['TotalPrice'].sum()"
   ]
  },
  {
   "cell_type": "code",
   "execution_count": 30,
   "metadata": {},
   "outputs": [
    {
     "data": {
      "image/png": "[encoded data removed]",
      "text/plain": [
       "<Figure size 720x432 with 1 Axes>"
      ]
     },
     "metadata": {
      "needs_background": "light"
     },
     "output_type": "display_data"
    }
   ],
   "source": [
    "# Visualize the Trend (Line Plot)\n",
    "plt.figure(figsize=(10, 6))\n",
    "monthly_sales.plot(kind='line', marker='o')\n",
    "plt.title('Monthly Sales Trend')\n",
    "plt.xlabel('Month')\n",
    "plt.ylabel('Total Sales')\n",
    "plt.xticks(range(1, 13)) # Ensure all months are displayed\n",
    "plt.grid(True)\n",
    "plt.show()"
   ]
  },
  {
   "cell_type": "code",
   "execution_count": 31,
   "metadata": {},
   "outputs": [
    {
     "data": {
      "image/png": "[encoded data removed]",
      "text/plain": [
       "<Figure size 720x432 with 1 Axes>"
      ]
     },
     "metadata": {
      "needs_background": "light"
     },
     "output_type": "display_data"
    }
   ],
   "source": [
    "# Visualize the Monthly Sales Comparison\n",
    "plt.figure(figsize=(10, 6))\n",
    "monthly_sales.plot(kind='bar', color='skyblue')\n",
    "plt.title('Monthly Sales Comparison')\n",
    "plt.xlabel('Month')\n",
    "plt.ylabel('Total Sales')\n",
    "plt.xticks(rotation=0) # Keep month numbers horizontal\n",
    "plt.grid(axis='y')\n",
    "plt.show()"
   ]
  },
  {
   "cell_type": "markdown",
   "metadata": {},
   "source": [
    "- Sales Spike in Q3/Q4: Both the line plot and the bar plot clearly show a significant surge in sales starting around September (Month 9) and peaking in November (Month 11). This strongly supports your hypothesis about the impact of the holiday shopping season in the UK and Europe.\n",
    "\n",
    "- Decline in February: The line plot shows a noticeable dip in sales in February (Month 2), which, as we discussed, is a common post-holiday trend.\n",
    "\n",
    "- Dip in April: The line plot also indicates a dip in sales in April (Month 4), which could be related to Easter holidays or other seasonal factors.\n",
    "\n",
    "- Overall Trend: The line plot provides a good visual of the overall sales trend throughout the year, highlighting the strong seasonality. The bar plot effectively compares the total sales for each month."
   ]
  },
  {
   "cell_type": "markdown",
   "metadata": {},
   "source": [
    "## Identify the busiest days of the week in terms of sales."
   ]
  },
  {
   "cell_type": "code",
   "execution_count": 32,
   "metadata": {},
   "outputs": [],
   "source": [
    "# Extract the Day of the Week\n",
    "df_clean.loc[:, 'DayOfWeek'] = df_clean['InvoiceDate'].dt.day_name()"
   ]
  },
  {
   "cell_type": "code",
   "execution_count": 33,
   "metadata": {},
   "outputs": [],
   "source": [
    "# Aggregate Sales by Day of the Week\n",
    "daily_sales = df_clean.groupby('DayOfWeek')['TotalPrice'].sum()"
   ]
  },
  {
   "cell_type": "code",
   "execution_count": 34,
   "metadata": {},
   "outputs": [],
   "source": [
    "# Order the Days of the Week (Crucial for correct plotting)\n",
    "days_order = ['Monday', 'Tuesday', 'Wednesday', 'Thursday', 'Friday', 'Saturday', 'Sunday']\n",
    "daily_sales = daily_sales.reindex(days_order)"
   ]
  },
  {
   "cell_type": "code",
   "execution_count": 35,
   "metadata": {},
   "outputs": [
    {
     "data": {
      "image/png": "[encoded data removed]",
      "text/plain": [
       "<Figure size 720x432 with 1 Axes>"
      ]
     },
     "metadata": {
      "needs_background": "light"
     },
     "output_type": "display_data"
    }
   ],
   "source": [
    "# Visualize the Trend (Bar Plot)\n",
    "plt.figure(figsize=(10, 6))\n",
    "daily_sales.plot(kind='bar', color='lightgreen')\n",
    "plt.title('Sales by Day of the Week')\n",
    "plt.xlabel('Day of the Week')\n",
    "plt.ylabel('Total Sales')\n",
    "plt.xticks(rotation=45) # Rotate x-axis labels for better readability\n",
    "plt.grid(axis='y', alpha=0.75)\n",
    "plt.tight_layout() # Adjust layout to prevent labels from overlapping\n",
    "plt.show()"
   ]
  },
  {
   "cell_type": "markdown",
   "metadata": {},
   "source": [
    "Mid-Week Peak: The trend of having the highest sales in the middle of the week (Tuesday, Wednesday, Thursday) is quite common for online retailers. This could be because people tend to browse and make purchases during their workdays or when they have more free time during the week compared to the weekend.\n",
    "\n",
    "Lower Weekend Sales (Especially Saturday): The significant drop in sales on Friday and Sunday, and the complete absence on Saturday, is unusual for an online store that typically operates 24/7. Here are some potential reasons and things to consider:\n",
    "\n",
    "   - Data Limitation: It's possible that the dataset doesn't fully capture all transactions, or there might be a specific reason why Saturday data is missing. We should perhaps check the range of dates in our InvoiceDate column to see if Saturdays are even present in the dataset.\n",
    "    \n",
    "   - Business Practice: It's highly unlikely for a modern online retailer to have zero sales on a Saturday. However, there might have been a specific operational reason during the 2010-2011 period for this particular business (e.g., scheduled maintenance, a very specific business model). This is less probable but worth considering.\n",
    "    \n",
    "   - Data Error: There could be an error in how the data was recorded or processed that resulted in no Saturday sales being included."
   ]
  },
  {
   "cell_type": "code",
   "execution_count": 36,
   "metadata": {},
   "outputs": [
    {
     "name": "stdout",
     "output_type": "stream",
     "text": [
      "Empty DataFrame\n",
      "Columns: [InvoiceNo, StockCode, Description, Quantity, InvoiceDate, UnitPrice, CustomerID, Country, TotalPrice, Month, DayOfWeek]\n",
      "Index: []\n",
      "\n",
      "Number of Saturday transactions: 0\n"
     ]
    }
   ],
   "source": [
    "# Double Check what happen to Saturday Data\n",
    "saturday_transactions = df_clean[df_clean['DayOfWeek'] == 'Saturday']\n",
    "print(saturday_transactions.head())\n",
    "print(f\"\\nNumber of Saturday transactions: {len(saturday_transactions)}\")"
   ]
  },
  {
   "cell_type": "markdown",
   "metadata": {},
   "source": [
    "It is doubtful that an online retail store, typically expected to operate 24/7, would show no transactions on Saturdays, as indicated in the data."
   ]
  },
  {
   "cell_type": "markdown",
   "metadata": {},
   "source": [
    "# Task 6: Explore the top-selling products and countries based on the quantity sold."
   ]
  },
  {
   "cell_type": "code",
   "execution_count": null,
   "metadata": {},
   "outputs": [],
   "source": []
  },
  {
   "cell_type": "markdown",
   "metadata": {},
   "source": [
    "## Top-Selling Products:"
   ]
  },
  {
   "cell_type": "code",
   "execution_count": 37,
   "metadata": {},
   "outputs": [],
   "source": [
    "# Filter out transactions with negative quantity (returns) for this analysis\n",
    "df_positive_quantity = df_clean[df_clean['Quantity'] > 0]"
   ]
  },
  {
   "cell_type": "code",
   "execution_count": 38,
   "metadata": {},
   "outputs": [],
   "source": [
    "# Group by product description and sum the quantity\n",
    "top_selling_products = df_positive_quantity.groupby('Description')['Quantity'].sum().sort_values(ascending=False)"
   ]
  },
  {
   "cell_type": "code",
   "execution_count": 42,
   "metadata": {},
   "outputs": [
    {
     "data": {
      "image/png": "[encoded data removed]",
      "text/plain": [
       "<Figure size 864x432 with 1 Axes>"
      ]
     },
     "metadata": {
      "needs_background": "light"
     },
     "output_type": "display_data"
    },
    {
     "name": "stdout",
     "output_type": "stream",
     "text": [
      "\n",
      "Top 10 Selling Products (Based on Quantity Sold):\n",
      " Description\n",
      "PAPER CRAFT , LITTLE BIRDIE           80995\n",
      "MEDIUM CERAMIC TOP STORAGE JAR        77916\n",
      "WORLD WAR 2 GLIDERS ASSTD DESIGNS     54319\n",
      "JUMBO BAG RED RETROSPOT               46078\n",
      "WHITE HANGING HEART T-LIGHT HOLDER    36706\n",
      "ASSORTED COLOUR BIRD ORNAMENT         35263\n",
      "PACK OF 72 RETROSPOT CAKE CASES       33670\n",
      "POPCORN HOLDER                        30919\n",
      "RABBIT NIGHT LIGHT                    27153\n",
      "MINI PAINT SET VINTAGE                26076\n",
      "Name: Quantity, dtype: int64\n"
     ]
    }
   ],
   "source": [
    "# Get the top 10 selling products\n",
    "top_10_products = top_selling_products.head(10)\n",
    "\n",
    "plt.figure(figsize=(12, 6))\n",
    "sns.barplot(x=top_10_products.values, y=top_10_products.index, palette='mako')\n",
    "plt.title('Top 10 Selling Products (Based on Quantity Sold)')\n",
    "plt.xlabel('Total Quantity Sold')\n",
    "plt.ylabel('Product Description')\n",
    "plt.tight_layout()\n",
    "plt.show()\n",
    "\n",
    "\n",
    "print(\"\\nTop 10 Selling Products (Based on Quantity Sold):\\n\", top_10_products)\n"
   ]
  },
  {
   "cell_type": "markdown",
   "metadata": {},
   "source": [
    "##  Top-Selling Countries:"
   ]
  },
  {
   "cell_type": "code",
   "execution_count": 43,
   "metadata": {},
   "outputs": [],
   "source": [
    "# Group by country and sum the quantity\n",
    "top_selling_countries = df_positive_quantity.groupby('Country')['Quantity'].sum().sort_values(ascending=False)"
   ]
  },
  {
   "cell_type": "code",
   "execution_count": 44,
   "metadata": {},
   "outputs": [
    {
     "data": {
      "image/png": "[encoded data removed]",
      "text/plain": [
       "<Figure size 864x432 with 1 Axes>"
      ]
     },
     "metadata": {
      "needs_background": "light"
     },
     "output_type": "display_data"
    },
    {
     "name": "stdout",
     "output_type": "stream",
     "text": [
      "\n",
      "Top Selling Countries (Based on Quantity Sold):\n",
      " Country\n",
      "Netherlands    200937\n",
      "EIRE           140383\n",
      "Germany        119156\n",
      "France         111429\n",
      "Australia       84199\n",
      "Sweden          36078\n",
      "Switzerland     30083\n",
      "Spain           27944\n",
      "Japan           26016\n",
      "Belgium         23237\n",
      "Name: Quantity, dtype: int64\n"
     ]
    }
   ],
   "source": [
    "# Get the top 10 countries (excluding the UK as it's the home country and likely dominates)\n",
    "top_10_countries = top_selling_countries.head(11) # Get 11 and exclude the first if it's UK\n",
    "if 'United Kingdom' in top_10_countries.index:\n",
    "    top_10_countries = top_10_countries[1:] # Exclude UK\n",
    "\n",
    "plt.figure(figsize=(12, 6))\n",
    "sns.barplot(x=top_10_countries.values, y=top_10_countries.index, palette='rocket')\n",
    "plt.title('Top Selling Countries (Based on Quantity Sold)')\n",
    "plt.xlabel('Total Quantity Sold')\n",
    "plt.ylabel('Country')\n",
    "plt.tight_layout()\n",
    "plt.show()\n",
    "\n",
    "print(\"\\nTop Selling Countries (Based on Quantity Sold):\\n\", top_10_countries)"
   ]
  },
  {
   "cell_type": "code",
   "execution_count": null,
   "metadata": {},
   "outputs": [],
   "source": []
  },
  {
   "cell_type": "code",
   "execution_count": 45,
   "metadata": {},
   "outputs": [
    {
     "data": {
      "image/png": "[encoded data removed]",
      "text/plain": [
       "<Figure size 864x432 with 1 Axes>"
      ]
     },
     "metadata": {
      "needs_background": "light"
     },
     "output_type": "display_data"
    },
    {
     "name": "stdout",
     "output_type": "stream",
     "text": [
      "\n",
      "Top 10 Most Returned Products:\n",
      " Description\n",
      "PAPER CRAFT , LITTLE BIRDIE           -80995\n",
      "MEDIUM CERAMIC TOP STORAGE JAR        -74494\n",
      "ROTATING SILVER ANGELS T-LIGHT HLDR    -9367\n",
      "Manual                                 -3995\n",
      "FAIRY CAKE FLANNEL ASSORTED COLOUR     -3150\n",
      "WHITE HANGING HEART T-LIGHT HOLDER     -2578\n",
      "GIN + TONIC DIET METAL SIGN            -2030\n",
      "HERB MARKER BASIL                      -1527\n",
      "FELTCRAFT DOLL MOLLY                   -1447\n",
      "TEA TIME PARTY BUNTING                 -1424\n",
      "Name: Quantity, dtype: int64\n"
     ]
    }
   ],
   "source": [
    "# check the top most return items\n",
    "returned_products = df_clean[df_clean['Quantity'] < 0]\n",
    "top_returns = returned_products.groupby('Description')['Quantity'].sum().sort_values().head(10)  # most negative first\n",
    "\n",
    "plt.figure(figsize=(12, 6))\n",
    "sns.barplot(x=top_returns.values, y=top_returns.index, palette='rocket')\n",
    "plt.title('Top 10 Most Returned Products')\n",
    "plt.xlabel('Total Returned Quantity')\n",
    "plt.ylabel('Product Description')\n",
    "plt.tight_layout()\n",
    "plt.show()\n",
    "\n",
    "print(\"\\nTop 10 Most Returned Products:\\n\", top_returns)"
   ]
  },
  {
   "cell_type": "markdown",
   "metadata": {},
   "source": [
    "**1. Top 10 Selling Products (Based on Quantity Sold)**\n",
    "\n",
    "- This chart tells us which individual products were bought the most often. Think of it like a popularity contest for our products based on how many units were sold.\n",
    "\n",
    "**What the data is telling us:**\n",
    "\n",
    "- The product with the longest bar is the most popular in terms of the number of units customers bought.\n",
    "\n",
    "- We can easily see which products are selling significantly more than others. For example, if the top bar is much longer than the rest, that product is a real star performer in terms of volume.\n",
    "\n",
    "- The products at the bottom of the list, while still in the top 10, sell in lower quantities compared to the top ones.\n",
    "\n",
    "\n",
    "**2. Top Selling Countries (Based on Quantity Sold)**\n",
    "\n",
    "- This chart highlights which countries our products are being bought from the most, again based on the total number of items sold in each country.\n",
    "\n",
    "**What the data is telling us:**\n",
    "\n",
    "- The country with the longest bar is our biggest market in terms of the sheer volume of products purchased.\n",
    "\n",
    "- We can see which countries are strong markets for us and which ones might have more potential for growth.\n",
    "\n",
    "- If one or two countries have significantly longer bars than the others, it means they are major contributors to our overall sales volume.\n",
    "\n",
    "**3. Top 10 Most Returned Products**\n",
    "\n",
    "- This chart is a bit different. It tells us which products were returned by customers the most often. Think of it as a list of products that customers were least satisfied with for some reason.\n",
    "\n",
    "**What the data is telling us:**\n",
    "\n",
    "- The product with the longest bar (going furthest to the left) is the one that was returned the most frequently. This could indicate potential issues with the product itself (quality, description), or customer expectations.\n",
    "\n",
    "- We can see which products have a higher return rate compared to others.\n",
    "\n",
    "High return rates can be costly and indicate problems. This information helps us:\n",
    "\n",
    "- Identify product issues: Investigate why certain products are being returned so often (e.g., poor quality, inaccurate description on the website, damage during shipping).\n",
    "\n",
    "- Improve customer satisfaction: Addressing the reasons for returns can lead to happier customers.\n",
    "\n",
    "- Reduce costs: Lowering return rates saves money on refunds, shipping, and handling."
   ]
  },
  {
   "cell_type": "markdown",
   "metadata": {},
   "source": [
    "# Task 7: Identify any outliers or anomalies in the dataset and discuss their potential impact on the analysis."
   ]
  },
  {
   "cell_type": "markdown",
   "metadata": {},
   "source": [
    "## Potential Impact of Outliers and Anomalies on the Analysis:\n",
    "\n",
    "1. Impact on Basic Statistics (e.g., Mean): The most immediate impact of extreme outliers, especially the very high positive quantities and unit prices, is on measures of central tendency like the mean. As we saw in the describe() output, the mean for Quantity and UnitPrice was pulled significantly higher than the median. This means the average value is not a true reflection of the typical transaction because a few extremely large values are skewing it. If someone only looked at the mean, they might get a misleading idea of the average order size or product price.\n",
    "\n",
    "2. Impact on Data Visualization: Outliers can severely distort visualizations, making it difficult to understand the distribution of the majority of your data. As you experienced with the initial histograms of Quantity and UnitPrice, the extreme values stretched the x-axis so much that the bars representing the frequent values near zero became tiny and hard to distinguish. Box plots helped us see the outliers, but again, the extreme range can make the box itself appear very small relative to the outlier points.\n",
    "\n",
    "3. Impact on Sales Calculations (Negative Quantities): The presence of negative quantities (returns) is crucial to consider when calculating total sales or revenue. If we simply summed the TotalPrice column without accounting for negative quantities, our total revenue figure would be inflated because returns represent money coming back to the customer, not sales revenue. For revenue analysis, it's usually necessary to either filter out returns or treat the TotalPrice for negative quantities as a reduction in revenue.\n",
    "\n",
    "4. Impact on Sales Trend Analysis (Absence of Saturday Data): The complete lack of sales data for Saturdays significantly impacts our understanding of the weekly sales pattern. While we can confidently say which of the recorded days are busiest, we cannot make any conclusions or comparisons about Saturday sales. If Saturdays are actually active sales days for this business, then our weekly trend analysis is incomplete and potentially misleading. This is a major data limitation that needs to be acknowledged.\n",
    "\n",
    "5. Impact on Identifying Top Products/Countries: While we filtered for positive quantities to find top selling items and countries, the outliers in quantity (both high and low) could still warrant further investigation. For instance, are the top products simply items that were part of those massive outlier transactions? Or are they consistently popular items across many smaller transactions?\n",
    "\n",
    "6. Impact on Future Modeling: If you were to use this data for predictive modeling (e.g., forecasting sales, customer segmentation), outliers could have a disproportionate influence on the model training, leading to a model that doesn't perform well on typical data. Depending on the model, outliers might need to be removed, transformed, or handled specifically.\n",
    "\n",
    "In summary, outliers and anomalies are not just interesting data points; they have a tangible impact on the accuracy and reliability of your analysis. Identifying and understanding them is a critical step before drawing firm conclusions or building models."
   ]
  },
  {
   "cell_type": "markdown",
   "metadata": {},
   "source": [
    "# Task 8: Draw conclusions and summarize your findings from the exploratory data analysis."
   ]
  },
  {
   "cell_type": "markdown",
   "metadata": {},
   "source": [
    "This analysis explores one year of transactional data from our online retail store, covering the period between December 2010 and December 2011. The dataset provides detailed information on customer purchases, including product specifics, quantities, prices, and transaction timestamps\n",
    "\n",
    "**1. Dataset Overview:**\n",
    "The analysis covers a full year of online retail transactions, providing a snapshot of customer purchasing behavior and sales performance across various products and regions during 2010-2011\n",
    "\n",
    "**2. Typical Transactions:**\n",
    "Based on the data, a typical transaction involves a relatively small quantity of items and a modest unit price. While the average quantity and price are influenced by extreme values (outliers), the median quantity of 5 and a median unit price of 1.95 GBP offer a more representative picture of most transactions. This suggests that while we have some large orders, the bulk of our business comes from smaller, more frequent purchases.   \n",
    "\n",
    "**3. Sales Performance:**\n",
    "The data reveals a strong seasonality in our sales. We observe a significant surge in sales activity starting around September and peaking in November. This aligns with the expected impact of the holiday shopping season. Conversely, there are noticeable dips in sales during February and April. Looking at the weekly trend, sales are highest in the middle of the week (Tuesday, Wednesday, and Thursday). Interestingly, there is a significant drop on Friday and Sunday, and a complete absence of sales data for Saturdays.   \n",
    "\n",
    "**4. Geographic and Product Performance:**\n",
    "Excluding the United Kingdom, our top-performing countries in terms of quantity sold are the Netherlands, EIRE, Germany, and France. This highlights key international markets where we have strong traction. In terms of products, the top sellers by quantity include 'PAPER CRAFT, LITTLE BIRDIE', 'MEDIUM CERAMIC TOP STORAGE JAR', and 'WORLD WAR 2 GLIDERS ASSTD DESIGNS'. Identifying these top performers can inform inventory management and marketing strategies. \n",
    "\n",
    "**5. Data Quality & Anomalies:**\n",
    "The analysis surfaced several critical data quality issues and anomalies that warrant attention. We observed transactions with negative quantities, which typically represent returns. There were also instances of transactions with a zero unit price, which could indicate promotional items or data errors. Furthermore, extreme outliers were identified in both quantity and unit price. These outliers, while few, can significantly skew aggregated statistics like the mean. Most notably, the complete absence of sales data for Saturdays is unusual for an online retailer operating 24/7 and represents a significant data limitation that impacts our understanding of weekly sales patterns.   \n",
    "\n",
    "**6. Overall Insights & Recommendations:**\n",
    "The exploratory data analysis provides several key takeaways for the business:\n",
    "\n",
    "- **Capitalize on Peak Seasons:** The strong performance in Q3 and Q4, particularly in November, underscores the importance of the holiday season. We should ensure our marketing and operations are optimized to maximize sales during this period.\n",
    "    \n",
    "- **Investigate Sales Dips:** The dips in February and April require further investigation. Understanding the reasons behind these lower sales periods could inform strategies to mitigate them in the future.\n",
    "    \n",
    "- **Address Data Limitations:** The missing Saturday data is a critical gap. We need to understand why this data is absent – whether it's a collection issue, a processing error, or a business-specific reason. Resolving this will provide a more complete picture of our weekly performance\n",
    "    \n",
    "- **Refine Data Cleaning:** The presence of negative quantities, zero prices, and extreme outliers highlights the need for robust data cleaning procedures for future analysis, especially when calculating metrics like total revenue.\n",
    "    \n",
    "- **Leverage Geographic and Product Insights:** Focusing on the top-performing countries and products can help tailor marketing efforts and optimize inventory, potentially leading to increased sales volume.   \n",
    "\n",
    "In conclusion, this EDA has provided valuable insights into our sales trends, customer behavior, and areas for improvement. Addressing the identified data quality issues and further investigating the sales patterns will be crucial for making informed strategic decisions moving forward.\n",
    "\n",
    "\n"
   ]
  },
  {
   "cell_type": "code",
   "execution_count": null,
   "metadata": {},
   "outputs": [],
   "source": []
  }
 ],
 "metadata": {
  "kernelspec": {
   "display_name": "Python 3",
   "language": "python",
   "name": "python3"
  },
  "language_info": {
   "codemirror_mode": {
    "name": "ipython",
    "version": 3
   },
   "file_extension": ".py",
   "mimetype": "text/x-python",
   "name": "python",
   "nbconvert_exporter": "python",
   "pygments_lexer": "ipython3",
   "version": "3.7.6"
  }
 },
 "nbformat": 4,
 "nbformat_minor": 4
}
